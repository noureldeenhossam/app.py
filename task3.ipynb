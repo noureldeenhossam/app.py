{
 "cells": [
  {
   "cell_type": "code",
   "execution_count": 6,
   "id": "af420f45-2ad5-4b9b-a20a-59f0c3b7b076",
   "metadata": {},
   "outputs": [],
   "source": [
    "from sklearn.model_selection import train_test_split\n",
    "from sklearn.linear_model import LogisticRegression\n",
    "from sklearn.tree import DecisionTreeClassifier\n",
    "from sklearn.ensemble import RandomForestClassifier\n",
    "from sklearn.metrics import classification_report\n",
    "import pandas as pd\n",
    "import numpy as np\n",
    "from sklearn.preprocessing import StandardScaler\n",
    "import matplotlib.pyplot as plt\n",
    "import seaborn as sns"
   ]
  },
  {
   "cell_type": "code",
   "execution_count": 7,
   "id": "d015a89d-a60c-44e6-b86c-896a085ffed1",
   "metadata": {},
   "outputs": [],
   "source": [
    "df = pd.read_csv(r\"C:\\Users\\noorh\\final1_preprocessed_dataset.csv\")\n"
   ]
  },
  {
   "cell_type": "code",
   "execution_count": 8,
   "id": "c8719317-6cdc-41d1-a995-f4bcf6f9ec0d",
   "metadata": {},
   "outputs": [],
   "source": [
    "X = df.drop(columns=['booking status_code'])\n",
    "y = df['booking status_code'].astype(int)"
   ]
  },
  {
   "cell_type": "code",
   "execution_count": 9,
   "id": "ecc837f2-88c0-471c-baa0-1431dff78fb1",
   "metadata": {},
   "outputs": [
    {
     "name": "stdout",
     "output_type": "stream",
     "text": [
      "Features used in model training:\n",
      "1. number of adults\n",
      "2. number of children\n",
      "3. number of weekend nights\n",
      "4. number of week nights\n",
      "5. car parking space\n",
      "6. lead time\n",
      "7. average price\n",
      "8. special requests\n",
      "9. repeat_type\n",
      "10. type of meal_code\n",
      "11. room type_code\n",
      "12. market segment type_code\n"
     ]
    }
   ],
   "source": [
    "features = X.columns.tolist()\n",
    "print(\"Features used in model training:\")\n",
    "for i, col in enumerate(features, 1):\n",
    "    print(f\"{i}. {col}\")"
   ]
  },
  {
   "cell_type": "code",
   "execution_count": 10,
   "id": "0543c069-3fe9-4795-a7a8-034e04159f98",
   "metadata": {},
   "outputs": [],
   "source": [
    "X_train, X_test, y_train, y_test = train_test_split(\n",
    "    X, y, test_size=0.2, stratify=y, random_state=42\n",
    ")"
   ]
  },
  {
   "cell_type": "code",
   "execution_count": 11,
   "id": "2a1e7089-08ee-4248-b34d-83733b1d21b0",
   "metadata": {},
   "outputs": [],
   "source": [
    "models = {\n",
    "    \"Logistic Regression\": LogisticRegression(class_weight='balanced', max_iter=1000),\n",
    "    \"Decision Tree\": DecisionTreeClassifier(class_weight='balanced', random_state=42),\n",
    "    \"Random Forest\": RandomForestClassifier(class_weight='balanced', n_estimators=100, random_state=42)\n",
    "}"
   ]
  },
  {
   "cell_type": "code",
   "execution_count": 12,
   "id": "4e4f87b1-6a20-4d0e-ac9b-78512f20167f",
   "metadata": {},
   "outputs": [],
   "source": [
    "results = {}\n"
   ]
  },
  {
   "cell_type": "code",
   "execution_count": 13,
   "id": "f753ceca-d83e-4833-b5f0-70c3ded7011e",
   "metadata": {},
   "outputs": [],
   "source": [
    "\n",
    "for name, model in models.items():\n",
    "    model.fit(X_train, y_train)\n",
    "    y_pred = model.predict(X_test)\n",
    "    report = classification_report(y_test, y_pred, output_dict=True)\n",
    "    results[name] = {\n",
    "        \"Accuracy\": report[\"accuracy\"],\n",
    "        \"Precision (Not Cancelled)\": report[\"0\"][\"precision\"],\n",
    "        \"Recall (Not Cancelled)\": report[\"0\"][\"recall\"],\n",
    "        \"F1-score (Not Cancelled)\": report[\"0\"][\"f1-score\"]\n",
    "    }\n"
   ]
  },
  {
   "cell_type": "code",
   "execution_count": 14,
   "id": "0c88b0af-96b6-46c1-a273-7693d918d3ec",
   "metadata": {},
   "outputs": [
    {
     "name": "stdout",
     "output_type": "stream",
     "text": [
      "\n",
      "=== Logistic Regression ===\n",
      "Accuracy: 0.7734\n",
      "Precision (Not Cancelled): 0.8669\n",
      "Recall (Not Cancelled): 0.7800\n",
      "F1-score (Not Cancelled): 0.8211\n",
      "\n",
      "=== Decision Tree ===\n",
      "Accuracy: 0.8457\n",
      "Precision (Not Cancelled): 0.8903\n",
      "Recall (Not Cancelled): 0.8767\n",
      "F1-score (Not Cancelled): 0.8834\n",
      "\n",
      "=== Random Forest ===\n",
      "Accuracy: 0.8768\n",
      "Precision (Not Cancelled): 0.8951\n",
      "Recall (Not Cancelled): 0.9235\n",
      "F1-score (Not Cancelled): 0.9091\n"
     ]
    }
   ],
   "source": [
    "# Display results\n",
    "for name, scores in results.items():\n",
    "    print(f\"\\n=== {name} ===\")\n",
    "    for metric, value in scores.items():\n",
    "        print(f\"{metric}: {value:.4f}\")"
   ]
  },
  {
   "cell_type": "code",
   "execution_count": 23,
   "id": "51d22798-97e1-4290-957f-6ce0ddab52ef",
   "metadata": {},
   "outputs": [
    {
     "data": {
      "text/plain": [
       "['feature_columns.pkl']"
      ]
     },
     "execution_count": 23,
     "metadata": {},
     "output_type": "execute_result"
    }
   ],
   "source": [
    "import joblib\n",
    "\n",
    "# Save trained random forest model\n",
    "joblib.dump(models[\"Random Forest\"], \"booking_model.pkl\")\n",
    "\n",
    "# Save feature list\n",
    "joblib.dump(X.columns.tolist(), \"feature_columns.pkl\")"
   ]
  },
  {
   "cell_type": "code",
   "execution_count": null,
   "id": "f89f597e-5fa8-4eb1-8e4e-a1cd0f5a63b1",
   "metadata": {},
   "outputs": [],
   "source": []
  }
 ],
 "metadata": {
  "kernelspec": {
   "display_name": "Python 3 (ipykernel)",
   "language": "python",
   "name": "python3"
  },
  "language_info": {
   "codemirror_mode": {
    "name": "ipython",
    "version": 3
   },
   "file_extension": ".py",
   "mimetype": "text/x-python",
   "name": "python",
   "nbconvert_exporter": "python",
   "pygments_lexer": "ipython3",
   "version": "3.11.8"
  }
 },
 "nbformat": 4,
 "nbformat_minor": 5
}
